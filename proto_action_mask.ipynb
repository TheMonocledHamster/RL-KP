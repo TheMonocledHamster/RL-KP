{
 "cells": [
  {
   "cell_type": "code",
   "execution_count": null,
   "id": "033ee118-018f-4900-bce4-d39bea6efa0a",
   "metadata": {},
   "outputs": [],
   "source": [
    "import or_gym\n",
    "import numpy as np\n",
    "from pprint import pprint"
   ]
  },
  {
   "cell_type": "code",
   "execution_count": null,
   "id": "c00bd69a-0e2e-4382-86da-d993a2e4da78",
   "metadata": {},
   "outputs": [],
   "source": [
    "env_config = {'N': 5,\n",
    "              'max_weight': 15,\n",
    "              'item_weights': np.array([1, 12, 2, 1, 4]),\n",
    "              'item_values': np.array([2, 4, 2, 1, 10]),\n",
    "              'mask': True}"
   ]
  },
  {
   "cell_type": "code",
   "execution_count": null,
   "id": "4c81f96b-0605-414d-826a-964aa56d42b8",
   "metadata": {},
   "outputs": [],
   "source": [
    "env = or_gym.make('Knapsack-v0', env_config=env_config)\n",
    "\n",
    "env.step(1)\n",
    "pprint(env.state)"
   ]
  },
  {
   "cell_type": "code",
   "execution_count": null,
   "id": "51b210a7-dd31-46d4-ad84-9006bcf97e2a",
   "metadata": {},
   "outputs": [],
   "source": [
    "import ray\n",
    "from ray.rllib.agents import ppo\n",
    "from ray import tune\n",
    "from ray.rllib.models import ModelCatalog\n",
    "from ray.rllib.models.tf.tf_modelv2 import TFModelV2\n",
    "from ray.rllib.models.tf.fcnet import FullyConnectedNetwork\n",
    "from ray.rllib.utils import try_import_tf\n",
    "from gym import spaces\n",
    "from or_gym.utils import create_env\n",
    "\n",
    "tf = try_import_tf()"
   ]
  },
  {
   "cell_type": "code",
   "execution_count": null,
   "id": "b5adf614-5d81-44df-b254-85243d3902c3",
   "metadata": {},
   "outputs": [],
   "source": [
    "class KP0ActionMaskModel(TFModelV2):\n",
    "    \n",
    "    def __init__(self, obs_space, action_space, num_outputs,\n",
    "        model_config, name, true_obs_shape=(11,),\n",
    "        action_embed_size=5, *args, **kwargs):\n",
    "        \n",
    "        super(KP0ActionMaskModel, self).__init__(obs_space,\n",
    "            action_space, num_outputs, model_config, name, \n",
    "            *args, **kwargs)\n",
    "        \n",
    "        self.action_embed_model = FullyConnectedNetwork(\n",
    "            spaces.Box(0, 1, shape=true_obs_shape), \n",
    "                action_space, action_embed_size,\n",
    "            model_config, name + \"_action_embedding\")\n",
    "        self.register_variables(self.action_embed_model.variables())    \n",
    "    \n",
    "    def forward(self, input_dict, state, seq_lens):\n",
    "        avail_actions = input_dict[\"obs\"][\"avail_actions\"]\n",
    "        action_mask = input_dict[\"obs\"][\"action_mask\"]\n",
    "        action_embedding, _ = self.action_embed_model({\n",
    "            \"obs\": input_dict[\"obs\"][\"state\"]})\n",
    "        intent_vector = tf.expand_dims(action_embedding, 1)\n",
    "        action_logits = tf.reduce_sum(avail_actions * intent_vector,\n",
    "            axis=1)\n",
    "        inf_mask = tf.maximum(tf.log(action_mask), tf.float32.min)\n",
    "        return action_logits + inf_mask, state    \n",
    "    \n",
    "    def value_function(self):\n",
    "        return self.action_embed_model.value_function()\n"
   ]
  },
  {
   "cell_type": "code",
   "execution_count": null,
   "id": "bbfd20ce-cfda-470a-8600-41918183ffe6",
   "metadata": {},
   "outputs": [],
   "source": [
    "ModelCatalog.register_custom_model('kp_mask', KP0ActionMaskModel)\n",
    "\n",
    "def register_env(env_name, env_config={}):\n",
    "    env = create_env(env_name)\n",
    "    tune.register_env(env_name, lambda env_name: env(env_name, env_config=env_config))\n",
    "    \n",
    "register_env('Knapsack-v0', env_config=env_config)"
   ]
  },
  {
   "cell_type": "code",
   "execution_count": null,
   "id": "41a2f8ba-c3eb-41ee-9502-043467f1855d",
   "metadata": {},
   "outputs": [],
   "source": [
    "ray.init(ignore_reinit_error=True)\n",
    "\n",
    "trainer_config = {\n",
    "    \"model\": {\n",
    "        \"custom_model\": \"kp_mask\"\n",
    "        },\n",
    "    \"env_config\": env_config\n",
    "    }\n",
    "trainer = ppo.PPOTrainer(env='Knapsack-v0', config=trainer_config)"
   ]
  },
  {
   "cell_type": "code",
   "execution_count": null,
   "id": "849ef7c6-f23e-40c4-9ac3-2bfd51a3f13a",
   "metadata": {},
   "outputs": [],
   "source": [
    "env = trainer.env_creator('Knapsack-v0')\n",
    "state = env.state\n",
    "state['action_mask'][0] = 0"
   ]
  },
  {
   "cell_type": "code",
   "execution_count": null,
   "id": "e3b8f0c4",
   "metadata": {},
   "outputs": [],
   "source": [
    "actions = np.array([trainer.compute_action(state) for i in range(10000)])\n",
    "any(actions==0)"
   ]
  },
  {
   "cell_type": "code",
   "execution_count": null,
   "id": "596f7935",
   "metadata": {},
   "outputs": [],
   "source": []
  }
 ],
 "metadata": {
  "kernelspec": {
   "display_name": "Python 3.8.13 ('act-mask')",
   "language": "python",
   "name": "python3"
  },
  "language_info": {
   "codemirror_mode": {
    "name": "ipython",
    "version": 3
   },
   "file_extension": ".py",
   "mimetype": "text/x-python",
   "name": "python",
   "nbconvert_exporter": "python",
   "pygments_lexer": "ipython3",
   "version": "3.8.13"
  },
  "vscode": {
   "interpreter": {
    "hash": "396b14ab4d85834e24075984cf3274b946d1785c3be910bee6982b49da8bc855"
   }
  }
 },
 "nbformat": 4,
 "nbformat_minor": 5
}
